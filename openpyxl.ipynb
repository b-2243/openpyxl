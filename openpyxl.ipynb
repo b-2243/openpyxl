{
 "cells": [
  {
   "cell_type": "code",
   "execution_count": null,
   "id": "815b1c9c",
   "metadata": {},
   "outputs": [],
   "source": [
    "# openpyxl is a Python library for working with Excel (.xlsx) files.\n",
    "\n",
    "# It lets you read, write, and modify Excel spreadsheets without opening Excel.\n",
    "\n",
    "\n"
   ]
  },
  {
   "cell_type": "markdown",
   "id": "b49a70e6",
   "metadata": {},
   "source": [
    "# Create a new Excel file"
   ]
  },
  {
   "cell_type": "code",
   "execution_count": 1,
   "id": "508a2387",
   "metadata": {},
   "outputs": [
    {
     "name": "stdout",
     "output_type": "stream",
     "text": [
      "Excel file created successfully!\n"
     ]
    }
   ],
   "source": [
    "from openpyxl import Workbook\n",
    "\n",
    "# Create a workbook and a sheet\n",
    "wb = Workbook()\n",
    "ws = wb.active\n",
    "ws.title = \"MySheet\"\n",
    "\n",
    "# Add data\n",
    "ws['A1'] = \"Name\"\n",
    "ws['B1'] = \"Score\"\n",
    "ws.append([\"Alice\", 95])\n",
    "ws.append([\"Bob\", 88])\n",
    "\n",
    "# Save file\n",
    "wb.save(\"example.xlsx\")\n",
    "print(\"Excel file created successfully!\")\n"
   ]
  },
  {
   "cell_type": "markdown",
   "id": "74c14374",
   "metadata": {},
   "source": [
    "# Read an Excel file"
   ]
  },
  {
   "cell_type": "code",
   "execution_count": 2,
   "id": "70a7e2dd",
   "metadata": {},
   "outputs": [
    {
     "name": "stdout",
     "output_type": "stream",
     "text": [
      "('Name', 'Score')\n",
      "('Alice', 95)\n",
      "('Bob', 88)\n"
     ]
    }
   ],
   "source": [
    "from openpyxl import load_workbook\n",
    "\n",
    "# Load workbook\n",
    "wb = load_workbook(\"example.xlsx\")\n",
    "ws = wb.active\n",
    "\n",
    "# Read all rows\n",
    "for row in ws.iter_rows(values_only=True):\n",
    "    print(row)\n"
   ]
  },
  {
   "cell_type": "markdown",
   "id": "bd84bbc0",
   "metadata": {},
   "source": [
    "# Modify an existing Excel file"
   ]
  },
  {
   "cell_type": "code",
   "execution_count": 9,
   "id": "40508284",
   "metadata": {},
   "outputs": [
    {
     "name": "stdout",
     "output_type": "stream",
     "text": [
      "Data updated!\n"
     ]
    }
   ],
   "source": [
    "from openpyxl import load_workbook\n",
    "\n",
    "wb = load_workbook(\"example.xlsx\")\n",
    "ws = wb.active\n",
    "\n",
    "# Update Bob's score\n",
    "ws['B3'] = 97\n",
    "ws['C1'] = \"Grade\"\n",
    "ws['C2'] = \"A+\"  # Alice\n",
    "ws['C3'] = \"A\"  \n",
    "\n",
    "# Save changes\n",
    "wb.save(\"example.xlsx\")\n",
    "print(\"Data updated!\")\n"
   ]
  },
  {
   "cell_type": "markdown",
   "id": "91c92c7c",
   "metadata": {},
   "source": [
    "# Apply formatting"
   ]
  },
  {
   "cell_type": "code",
   "execution_count": 5,
   "id": "67ec857e",
   "metadata": {},
   "outputs": [],
   "source": [
    "from openpyxl.styles import Font, PatternFill\n",
    "from openpyxl import Workbook\n",
    "\n",
    "wb = Workbook()\n",
    "ws = wb.active\n",
    "\n",
    "# Apply bold & color\n",
    "ws['A1'] = \"Header\"\n",
    "ws['A1'].font = Font(bold=True, color=\"FFFFFF\")\n",
    "ws['A1'].fill = PatternFill(start_color=\"0000FF\", fill_type=\"solid\")\n",
    "\n",
    "wb.save(\"formatted.xlsx\")\n"
   ]
  },
  {
   "cell_type": "markdown",
   "id": "0f26471d",
   "metadata": {},
   "source": [
    "# Create a chart"
   ]
  },
  {
   "cell_type": "code",
   "execution_count": 6,
   "id": "e1b29811",
   "metadata": {},
   "outputs": [],
   "source": [
    "from openpyxl import Workbook\n",
    "from openpyxl.chart import BarChart, Reference\n",
    "\n",
    "wb = Workbook()\n",
    "ws = wb.active\n",
    "\n",
    "# Add data\n",
    "data = [\n",
    "    [\"Month\", \"Sales\"],\n",
    "    [\"Jan\", 300],\n",
    "    [\"Feb\", 400],\n",
    "    [\"Mar\", 500]\n",
    "]\n",
    "for row in data:\n",
    "    ws.append(row)\n",
    "\n",
    "# Create a bar chart\n",
    "chart = BarChart()\n",
    "values = Reference(ws, min_col=2, min_row=1, max_row=4)\n",
    "categories = Reference(ws, min_col=1, min_row=2, max_row=4)\n",
    "chart.add_data(values, titles_from_data=True)\n",
    "chart.set_categories(categories)\n",
    "\n",
    "ws.add_chart(chart, \"E5\")\n",
    "wb.save(\"chart.xlsx\")\n"
   ]
  },
  {
   "cell_type": "code",
   "execution_count": null,
   "id": "d08b61b0",
   "metadata": {},
   "outputs": [],
   "source": []
  }
 ],
 "metadata": {
  "kernelspec": {
   "display_name": ".venv",
   "language": "python",
   "name": "python3"
  },
  "language_info": {
   "codemirror_mode": {
    "name": "ipython",
    "version": 3
   },
   "file_extension": ".py",
   "mimetype": "text/x-python",
   "name": "python",
   "nbconvert_exporter": "python",
   "pygments_lexer": "ipython3",
   "version": "3.13.5"
  }
 },
 "nbformat": 4,
 "nbformat_minor": 5
}
